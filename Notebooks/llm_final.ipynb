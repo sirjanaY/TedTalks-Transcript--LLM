{
 "cells": [
  {
   "cell_type": "markdown",
   "id": "91805bbb",
   "metadata": {},
   "source": [
    "## Local Multi‑Label Classifier"
   ]
  },
  {
   "cell_type": "code",
   "execution_count": 40,
   "id": "cad3d30d",
   "metadata": {},
   "outputs": [],
   "source": [
    "import pandas as pd\n",
    "import matplotlib as plt\n",
    "import json, os, random\n",
    "\n",
    "DATA_PATH = \"ted_talks_clean.csv\"  \n",
    "TEXT_COLUMN_CANDIDATES = [\"transcript\", \"description\"]\n",
    "TAGS_COLUMN_CANDIDATES = [\"tags\", \"topics\"]\n",
    "\n",
    "# Labels\n",
    "MAX_LABELS = 12          # keep top-N most frequent labels\n",
    "MIN_FREQ_PER_LABEL = 20  # drop very rare labels\n",
    "\n",
    "# Split / training\n",
    "TRAIN_FRACTION = 0.8\n",
    "RANDOM_SEED = 42\n",
    "EPOCHS = 8\n",
    "LR = 0.1\n",
    "HASH_DIM = 2**18         # feature hashing dimension (262,144)\n",
    "BATCH_LOG = 200          # print every N examples (set None to silence)\n",
    "\n",
    "# Output files\n",
    "PREDICTIONS_CSV = \"local_multilabel_predictions.csv\"\n"
   ]
  },
  {
   "cell_type": "code",
   "execution_count": 37,
   "id": "1edbeecb",
   "metadata": {},
   "outputs": [
    {
     "name": "stdout",
     "output_type": "stream",
     "text": [
      "TEXT_COL: transcript | TAGS_COL: topics\n"
     ]
    }
   ],
   "source": [
    "def pick_col(candidates, cols):\n",
    "    for c in candidates:\n",
    "        if c in cols:\n",
    "            return c\n",
    "    return None\n",
    "\n",
    "if df is None:\n",
    "    cols = rows[0].keys()\n",
    "    TEXT_COL = pick_col(TEXT_COLUMN_CANDIDATES, cols)\n",
    "    TAGS_COL = pick_col(TAGS_COLUMN_CANDIDATES, cols)\n",
    "else:\n",
    "    TEXT_COL = pick_col(TEXT_COLUMN_CANDIDATES, df.columns)\n",
    "    TAGS_COL = pick_col(TAGS_COLUMN_CANDIDATES, df.columns)\n",
    "\n",
    "print(\"TEXT_COL:\", TEXT_COL, \"| TAGS_COL:\", TAGS_COL)\n",
    "if TEXT_COL is None or TAGS_COL is None:\n",
    "    raise ValueError(\"CSV must have a text column and a tags/topics column.\")\n"
   ]
  },
  {
   "cell_type": "code",
   "execution_count": 46,
   "id": "6038016b",
   "metadata": {},
   "outputs": [
    {
     "name": "stdout",
     "output_type": "stream",
     "text": [
      "Usable records: 4005\n"
     ]
    }
   ],
   "source": [
    "\n",
    "import csv\n",
    "\n",
    "def parse_tags(val):\n",
    "    # 1) list/tuple already\n",
    "    if val is None:\n",
    "        return []\n",
    "    if isinstance(val, (list, tuple, set)):\n",
    "        return [str(x).strip().strip('\"').strip(\"'\").lower() for x in val if str(x).strip()]\n",
    "    s = str(val).strip()\n",
    "    if not s: return []\n",
    "    # 2) JSON list like [\"ai\",\"health\"]\n",
    "    if s.startswith('[') and s.endswith(']'):\n",
    "        try:\n",
    "            out = json.loads(s)\n",
    "            if isinstance(out, (list, tuple)):\n",
    "                return [str(x).strip().strip('\"').strip(\"'\").lower() for x in out if str(x).strip()]\n",
    "        except Exception:\n",
    "            pass\n",
    "    # 3) Delimited string\n",
    "    if '|' in s:\n",
    "        parts = s.split('|')\n",
    "    elif ';' in s:\n",
    "        parts = s.split(';')\n",
    "    elif ',' in s:\n",
    "        parts = next(csv.reader([s], skipinitialspace=True))  # respects quotes\n",
    "    else:\n",
    "        parts = [s]\n",
    "    return [p.strip().strip('\"').strip(\"'\").lower() for p in parts if p.strip()]\n",
    "\n",
    "def iter_rows():\n",
    "    return rows if df is None else df.to_dict(\"records\")\n",
    "\n",
    "raw = []\n",
    "for r in iter_rows():\n",
    "    text = str(r.get(TEXT_COL,\"\") or \"\")\n",
    "    tags = parse_tags(r.get(TAGS_COL,\"\"))\n",
    "    tid  = r.get(\"talk_id\") if \"talk_id\" in r else r.get(\"id\") or None\n",
    "    if tid is None:\n",
    "        tid = len(raw)\n",
    "    if text and tags:\n",
    "        raw.append({\"talk_id\": tid, \"text\": text, \"tags\": tags})\n",
    "\n",
    "print(\"Usable records:\", len(raw))\n",
    "if len(raw) < 200:\n",
    "    print(\"Warning: few records with non-empty text/tags.\")\n"
   ]
  },
  {
   "cell_type": "markdown",
   "id": "880ba1a1",
   "metadata": {},
   "source": [
    "## 4) Build label space & filter\n"
   ]
  },
  {
   "cell_type": "code",
   "execution_count": 47,
   "id": "0251a924",
   "metadata": {},
   "outputs": [
    {
     "name": "stdout",
     "output_type": "stream",
     "text": [
      "Label count: 12 | sample: ['culture', 'design', 'global issues', 'health', 'history', 'humanity', 'innovation', 'science', 'social change', 'society']\n",
      "Records after filtering: 2946\n"
     ]
    }
   ],
   "source": [
    "\n",
    "from collections import Counter\n",
    "\n",
    "freq = Counter()\n",
    "for r in raw:\n",
    "    freq.update(set(r[\"tags\"]))\n",
    "\n",
    "kept = [lab for lab, cnt in freq.most_common() if cnt >= MIN_FREQ_PER_LABEL]\n",
    "if MAX_LABELS is not None:\n",
    "    kept = kept[:MAX_LABELS]\n",
    "labels = sorted(set(kept))\n",
    "label2id = {lab:i for i,lab in enumerate(labels)}\n",
    "L = len(labels)\n",
    "print(\"Label count:\", L, \"| sample:\", labels[:10])\n",
    "\n",
    "data = []\n",
    "for r in raw:\n",
    "    labs = sorted({t for t in r[\"tags\"] if t in label2id})\n",
    "    if labs:\n",
    "        data.append({\"talk_id\": r[\"talk_id\"], \"text\": r[\"text\"], \"tags\": labs})\n",
    "print(\"Records after filtering:\", len(data))\n"
   ]
  },
  {
   "cell_type": "code",
   "execution_count": 48,
   "id": "30156422",
   "metadata": {},
   "outputs": [],
   "source": [
    "\n",
    "import string, hashlib, numpy as np\n",
    "\n",
    "table = str.maketrans({ch:\" \" for ch in string.punctuation})\n",
    "\n",
    "def tokenize_simple(s):\n",
    "    s = s.lower().translate(table)\n",
    "    return [w for w in s.split() if w]\n",
    "\n",
    "D = HASH_DIM\n",
    "\n",
    "def hash_idx(tok):\n",
    "    # stable index via md5\n",
    "    return int(hashlib.md5(tok.encode(\"utf-8\")).hexdigest(), 16) % D\n",
    "\n",
    "def featurize(text):\n",
    "    idxs = {}\n",
    "    for w in tokenize_simple(text):\n",
    "        h = hash_idx(w)\n",
    "        idxs[h] = idxs.get(h, 0) + 1\n",
    "    # log(1+tf) scaling\n",
    "    return [(i, 1.0 + np.log(v)) for i, v in idxs.items()]\n",
    "\n",
    "def tags_to_vec(tags):\n",
    "    y = np.zeros(L, dtype=np.float32)\n",
    "    for t in tags:\n",
    "        y[label2id[t]] = 1.0\n",
    "    return y\n"
   ]
  },
  {
   "cell_type": "markdown",
   "id": "ca21d3fb",
   "metadata": {},
   "source": [
    "## 6) Train/valid split"
   ]
  },
  {
   "cell_type": "code",
   "execution_count": 49,
   "id": "030d6c7c",
   "metadata": {},
   "outputs": [
    {
     "name": "stdout",
     "output_type": "stream",
     "text": [
      "Train: 2356 | Valid: 590\n"
     ]
    }
   ],
   "source": [
    "\n",
    "random.seed(RANDOM_SEED)\n",
    "random.shuffle(data)\n",
    "cut = int(len(data)*TRAIN_FRACTION)\n",
    "train, valid = data[:cut], data[cut:]\n",
    "print(\"Train:\", len(train), \"| Valid:\", len(valid))\n"
   ]
  },
  {
   "cell_type": "markdown",
   "id": "37d49c75",
   "metadata": {},
   "source": [
    "## 7) SGD training (one‑vs‑rest logistic regression)"
   ]
  },
  {
   "cell_type": "code",
   "execution_count": 50,
   "id": "77e73658",
   "metadata": {},
   "outputs": [
    {
     "name": "stderr",
     "output_type": "stream",
     "text": [
      "/tmp/ipykernel_3887/669017346.py:6: RuntimeWarning: overflow encountered in exp\n",
      "  return 1.0 / (1.0 + np.exp(-x))\n"
     ]
    },
    {
     "name": "stdout",
     "output_type": "stream",
     "text": [
      "Epoch 1/8  loss=2.8346\n",
      "Epoch 2/8  loss=1.4627\n",
      "Epoch 3/8  loss=0.8034\n",
      "Epoch 4/8  loss=0.3565\n",
      "Epoch 5/8  loss=0.1785\n",
      "Epoch 6/8  loss=0.0659\n",
      "Epoch 7/8  loss=0.0192\n",
      "Epoch 8/8  loss=0.0062\n"
     ]
    }
   ],
   "source": [
    "\n",
    "np.random.seed(RANDOM_SEED)\n",
    "W = np.zeros((L, D), dtype=np.float32)  # weights per label\n",
    "b = np.zeros(L, dtype=np.float32)       # bias per label\n",
    "\n",
    "def sigmoid(x):\n",
    "    return 1.0 / (1.0 + np.exp(-x))\n",
    "\n",
    "def forward_sparse(feat):\n",
    "    # feat: list of (index, value)\n",
    "    # returns logits (L,) = b + sum_j W[:,idx_j] * val_j\n",
    "    z = b.copy()\n",
    "    for idx, val in feat:\n",
    "        z += W[:, idx] * val\n",
    "    return z\n",
    "\n",
    "def sgd_epoch(examples, lr=LR):\n",
    "    total_loss = 0.0\n",
    "    for i, r in enumerate(examples, 1):\n",
    "        feat = featurize(r[\"text\"])\n",
    "        y = tags_to_vec(r[\"tags\"])  # (L,)\n",
    "        z = forward_sparse(feat)    # (L,)\n",
    "        p = sigmoid(z)              # (L,)\n",
    "\n",
    "        # binary cross-entropy per label\n",
    "        eps = 1e-7\n",
    "        loss = - (y*np.log(p+eps) + (1-y)*np.log(1-p+eps)).mean()\n",
    "        total_loss += loss\n",
    "\n",
    "        # gradient w.r.t logits: (p - y)\n",
    "        g = (p - y)  # (L,)\n",
    "\n",
    "        # update weights (vectorized across labels for each feature)\n",
    "        for idx, val in feat:\n",
    "            W[:, idx] -= lr * g * val\n",
    "        # update bias\n",
    "        b[:] -= lr * g\n",
    "\n",
    "        if BATCH_LOG and (i % BATCH_LOG) == 0:\n",
    "            pass  # print if you want\n",
    "\n",
    "    return float(total_loss) / max(1, len(examples))\n",
    "\n",
    "loss_history = []\n",
    "for e in range(1, EPOCHS+1):\n",
    "    random.shuffle(train)\n",
    "    lr = LR / (1 + 0.2*(e-1))  # mild decay\n",
    "    L_e = sgd_epoch(train, lr=lr)\n",
    "    loss_history.append(L_e)\n",
    "    print(f\"Epoch {e}/{EPOCHS}  loss={L_e:.4f}\")\n"
   ]
  },
  {
   "cell_type": "markdown",
   "id": "de044d42",
   "metadata": {},
   "source": [
    "## 8) Plot training loss"
   ]
  },
  {
   "cell_type": "code",
   "execution_count": 51,
   "id": "65a198b8",
   "metadata": {},
   "outputs": [
    {
     "data": {
      "image/png": "[encoded data removed]",
      "text/plain": [
       "<Figure size 640x480 with 1 Axes>"
      ]
     },
     "metadata": {},
     "output_type": "display_data"
    }
   ],
   "source": [
    "\n",
    "try:\n",
    "    import matplotlib.pyplot as plt\n",
    "    plt.figure()\n",
    "    plt.plot(range(1, len(loss_history)+1), loss_history, marker=\"o\")\n",
    "    plt.xlabel(\"Epoch\")\n",
    "    plt.ylabel(\"Average BCE loss\")\n",
    "    plt.title(\"Training loss\")\n",
    "    plt.show()\n",
    "except Exception as e:\n",
    "    print(\"matplotlib not available; loss history:\", loss_history)\n"
   ]
  },
  {
   "cell_type": "markdown",
   "id": "083ad84a",
   "metadata": {},
   "source": [
    "## 9) Evaluation (Jaccard, micro P/R/F1)"
   ]
  },
  {
   "cell_type": "code",
   "execution_count": 56,
   "id": "da68183a",
   "metadata": {},
   "outputs": [
    {
     "name": "stderr",
     "output_type": "stream",
     "text": [
      "/tmp/ipykernel_3887/669017346.py:6: RuntimeWarning: overflow encountered in exp\n",
      "  return 1.0 / (1.0 + np.exp(-x))\n"
     ]
    },
    {
     "name": "stdout",
     "output_type": "stream",
     "text": [
      "Avg Jaccard: 0.312\n",
      "Micro Precision: 0.534  Micro Recall: 0.359  Micro F1: 0.429\n",
      "Top labels by F1:\n",
      "science               P=0.81 R=0.54 F1=0.65\n",
      "design                P=0.62 R=0.49 F1=0.55\n",
      "global issues         P=0.66 R=0.46 F1=0.54\n",
      "health                P=0.59 R=0.50 F1=0.54\n",
      "history               P=0.70 R=0.38 F1=0.49\n",
      "social change         P=0.55 R=0.35 F1=0.43\n",
      "technology            P=0.45 R=0.31 F1=0.37\n",
      "society               P=0.46 R=0.27 F1=0.34\n",
      "culture               P=0.35 R=0.32 F1=0.34\n",
      "technology']          P=0.38 R=0.20 F1=0.26\n",
      "Wrote local_multilabel_predictions.csv rows: 590\n"
     ]
    }
   ],
   "source": [
    "\n",
    "def predict_tags(text, threshold=0.5):\n",
    "    feat = featurize(text)\n",
    "    p = sigmoid(forward_sparse(feat))\n",
    "    idxs = np.where(p >= threshold)[0]\n",
    "    return [labels[i] for i in idxs], p\n",
    "\n",
    "def jaccard(a, b):\n",
    "    A, B = set(a), set(b)\n",
    "    if not A and not B: return 1.0\n",
    "    return len(A & B) / max(1, len(A | B))\n",
    "\n",
    "micro_tp = micro_fp = micro_fn = 0\n",
    "per_label = {lab: {\"tp\":0,\"fp\":0,\"fn\":0} for lab in labels}\n",
    "jac_list = []\n",
    "\n",
    "pred_rows = []\n",
    "for r in valid:\n",
    "    pred, prob = predict_tags(r[\"text\"], threshold=0.5)\n",
    "    gold = r[\"tags\"]\n",
    "    jac_list.append(jaccard(pred, gold))\n",
    "    pred_rows.append({\"talk_id\": r[\"talk_id\"], \"gold\": \", \".join(gold), \"pred\": \", \".join(pred)})\n",
    "\n",
    "    P = set(pred); G = set(gold)\n",
    "    for lab in labels:\n",
    "        in_p, in_g = (lab in P), (lab in G)\n",
    "        if in_p and in_g: per_label[lab][\"tp\"] += 1\n",
    "        if in_p and not in_g: per_label[lab][\"fp\"] += 1\n",
    "        if (not in_p) and in_g: per_label[lab][\"fn\"] += 1\n",
    "\n",
    "# micro\n",
    "for lab in labels:\n",
    "    micro_tp += per_label[lab][\"tp\"]\n",
    "    micro_fp += per_label[lab][\"fp\"]\n",
    "    micro_fn += per_label[lab][\"fn\"]\n",
    "\n",
    "def safe_div(a,b): return a / b if b else 0.0\n",
    "micro_prec = safe_div(micro_tp, micro_tp + micro_fp)\n",
    "micro_rec  = safe_div(micro_tp, micro_tp + micro_fn)\n",
    "micro_f1   = safe_div(2*micro_prec*micro_rec, micro_prec + micro_rec) if (micro_prec+micro_rec) else 0.0\n",
    "avg_jac    = sum(jac_list)/max(1,len(jac_list))\n",
    "\n",
    "print(f\"Avg Jaccard: {avg_jac:.3f}\")\n",
    "print(f\"Micro Precision: {micro_prec:.3f}  Micro Recall: {micro_rec:.3f}  Micro F1: {micro_f1:.3f}\")\n",
    "\n",
    "# per-label F1\n",
    "label_scores = []\n",
    "for lab in labels:\n",
    "    tp, fp, fn = per_label[lab][\"tp\"], per_label[lab][\"fp\"], per_label[lab][\"fn\"]\n",
    "    prec = safe_div(tp, tp+fp); rec = safe_div(tp, tp+fn)\n",
    "    f1 = safe_div(2*prec*rec, prec+rec) if (prec+rec) else 0.0\n",
    "    label_scores.append((lab, prec, rec, f1))\n",
    "\n",
    "label_scores.sort(key=lambda x: x[3], reverse=True)\n",
    "print(\"Top labels by F1:\")\n",
    "for lab, p, r, f1 in label_scores[:10]:\n",
    "    print(f\"{lab:20s}  P={p:.2f} R={r:.2f} F1={f1:.2f}\")\n",
    "\n",
    "# save predictions\n",
    "import csv as _csv\n",
    "with open(PREDICTIONS_CSV, \"w\", newline=\"\", encoding=\"utf-8\") as f:\n",
    "    w = _csv.DictWriter(f, fieldnames=[\"talk_id\",\"gold\",\"pred\"])\n",
    "    w.writeheader()\n",
    "    for row in pred_rows:\n",
    "        w.writerow(row)\n",
    "print(\"Wrote\", PREDICTIONS_CSV, \"rows:\", len(pred_rows))\n"
   ]
  },
  {
   "cell_type": "markdown",
   "id": "4e0916f4",
   "metadata": {},
   "source": [
    "## 10) Per‑label F1 chart"
   ]
  },
  {
   "cell_type": "code",
   "execution_count": 53,
   "id": "007c4732",
   "metadata": {},
   "outputs": [
    {
     "data": {
      "image/png": "[encoded data removed]",
      "text/plain": [
       "<Figure size 800x360 with 1 Axes>"
      ]
     },
     "metadata": {},
     "output_type": "display_data"
    }
   ],
   "source": [
    "\n",
    "try:\n",
    "    import matplotlib.pyplot as plt\n",
    "    labs = [x[0] for x in label_scores]\n",
    "    f1s  = [x[3] for x in label_scores]\n",
    "    plt.figure(figsize=(8, max(3, len(labs)*0.3)))\n",
    "    plt.barh(labs, f1s)\n",
    "    plt.xlabel(\"F1\")\n",
    "    plt.title(\"Per‑label F1\")\n",
    "    plt.gca().invert_yaxis()\n",
    "    plt.show()\n",
    "except Exception as e:\n",
    "    print(\"matplotlib not available; top‑10:\", label_scores[:10])\n"
   ]
  },
  {
   "cell_type": "code",
   "execution_count": null,
   "id": "fa32cdb6",
   "metadata": {},
   "outputs": [],
   "source": []
  }
 ],
 "metadata": {
  "kernelspec": {
   "display_name": "Python 3 (ipykernel)",
   "language": "python",
   "name": "python3"
  },
  "language_info": {
   "codemirror_mode": {
    "name": "ipython",
    "version": 3
   },
   "file_extension": ".py",
   "mimetype": "text/x-python",
   "name": "python",
   "nbconvert_exporter": "python",
   "pygments_lexer": "ipython3",
   "version": "3.12.3"
  }
 },
 "nbformat": 4,
 "nbformat_minor": 5
}
