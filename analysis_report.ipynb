{
 "cells": [
  {
   "cell_type": "code",
   "execution_count": 1,
   "id": "0d56ca1d",
   "metadata": {},
   "outputs": [],
   "source": [
    "\n",
    "import os, json, numpy as np, pandas as pd\n",
    "import matplotlib.pyplot as plt\n",
    "from pathlib import Path\n",
    "import pickle\n",
    "\n",
    "from sklearn.feature_extraction.text import TfidfVectorizer\n",
    "\n",
    "# Files\n",
    "FEATURES_CSV = \"features.csv\"\n",
    "EMB_NPY = \"embeddings.npy\"\n",
    "EMB_META = \"embedding_meta.csv\"\n",
    "MODEL_PKL = \"emotion_logreg.pkl\"\n",
    "TALK_FEATS_CSV = \"talk_features.csv\"  # optional (from Notebook 04)\n",
    "\n",
    "PRED_CHUNKS_CSV = \"predictions_per_chunk.csv\"\n",
    "TALK_SUMMARY_CSV = \"talk_summary.csv\"\n",
    "\n",
    "# Make figure dir\n",
    "Path(\"figures\").mkdir(exist_ok=True)\n"
   ]
  },
  {
   "cell_type": "code",
   "execution_count": 2,
   "id": "a716898c",
   "metadata": {},
   "outputs": [
    {
     "name": "stdout",
     "output_type": "stream",
     "text": [
      "features.csv rows: 16128\n"
     ]
    },
    {
     "data": {
      "text/html": [
       "<div>\n",
       "<style scoped>\n",
       "    .dataframe tbody tr th:only-of-type {\n",
       "        vertical-align: middle;\n",
       "    }\n",
       "\n",
       "    .dataframe tbody tr th {\n",
       "        vertical-align: top;\n",
       "    }\n",
       "\n",
       "    .dataframe thead th {\n",
       "        text-align: right;\n",
       "    }\n",
       "</style>\n",
       "<table border=\"1\" class=\"dataframe\">\n",
       "  <thead>\n",
       "    <tr style=\"text-align: right;\">\n",
       "      <th></th>\n",
       "      <th>talk_id</th>\n",
       "      <th>chunk_id</th>\n",
       "      <th>title</th>\n",
       "      <th>speaker</th>\n",
       "      <th>primary_emotion</th>\n",
       "      <th>frames</th>\n",
       "      <th>techniques</th>\n",
       "    </tr>\n",
       "  </thead>\n",
       "  <tbody>\n",
       "    <tr>\n",
       "      <th>0</th>\n",
       "      <td>0</td>\n",
       "      <td>0</td>\n",
       "      <td>Averting the climate crisis</td>\n",
       "      <td>Al Gore</td>\n",
       "      <td>neutral</td>\n",
       "      <td>none</td>\n",
       "      <td>storytelling, rhetorical_question</td>\n",
       "    </tr>\n",
       "    <tr>\n",
       "      <th>1</th>\n",
       "      <td>0</td>\n",
       "      <td>1</td>\n",
       "      <td>Averting the climate crisis</td>\n",
       "      <td>Al Gore</td>\n",
       "      <td>neutral</td>\n",
       "      <td>environmental</td>\n",
       "      <td>storytelling, rhetorical_question</td>\n",
       "    </tr>\n",
       "    <tr>\n",
       "      <th>2</th>\n",
       "      <td>0</td>\n",
       "      <td>2</td>\n",
       "      <td>Averting the climate crisis</td>\n",
       "      <td>Al Gore</td>\n",
       "      <td>neutral</td>\n",
       "      <td>environmental</td>\n",
       "      <td>rhetorical_question</td>\n",
       "    </tr>\n",
       "  </tbody>\n",
       "</table>\n",
       "</div>"
      ],
      "text/plain": [
       "   talk_id  chunk_id                        title  speaker primary_emotion  \\\n",
       "0        0         0  Averting the climate crisis  Al Gore         neutral   \n",
       "1        0         1  Averting the climate crisis  Al Gore         neutral   \n",
       "2        0         2  Averting the climate crisis  Al Gore         neutral   \n",
       "\n",
       "          frames                         techniques  \n",
       "0           none  storytelling, rhetorical_question  \n",
       "1  environmental  storytelling, rhetorical_question  \n",
       "2  environmental                rhetorical_question  "
      ]
     },
     "execution_count": 2,
     "metadata": {},
     "output_type": "execute_result"
    }
   ],
   "source": [
    "\n",
    "feats = pd.read_csv(FEATURES_CSV)\n",
    "print(\"features.csv rows:\", len(feats))\n",
    "keep = [\"talk_id\",\"chunk_id\",\"title\",\"speaker\",\"primary_emotion\",\"frames\",\"techniques\"]\n",
    "if \"chunk_text\" in feats.columns: keep.append(\"chunk_text\")\n",
    "feats = feats[ [c for c in keep if c in feats.columns] ].copy()\n",
    "feats.head(3)\n"
   ]
  },
  {
   "cell_type": "code",
   "execution_count": 4,
   "id": "b273e467",
   "metadata": {},
   "outputs": [
    {
     "name": "stdout",
     "output_type": "stream",
     "text": [
      "Using embeddings: (1500, 1536)\n"
     ]
    }
   ],
   "source": [
    "\n",
    "# Prefer precomputed embeddings; fallback to TF-IDF on chunk_text\n",
    "X, X_source = None, \"\"\n",
    "if Path(EMB_NPY).exists() and Path(EMB_META).exists():\n",
    "    emb = np.load(EMB_NPY)\n",
    "    meta = pd.read_csv(EMB_META)\n",
    "    kf = feats.set_index([\"talk_id\",\"chunk_id\"]).sort_index()\n",
    "    km = meta.set_index([\"talk_id\",\"chunk_id\"]).sort_index()\n",
    "    common = kf.index.intersection(km.index)\n",
    "    if len(common) == 0:\n",
    "        raise ValueError(\"No overlap between features.csv and embedding_meta.csv on (talk_id, chunk_id).\")\n",
    "    kf = kf.loc[common]\n",
    "    km = km.loc[common]\n",
    "    order = km.reset_index().index.values\n",
    "    X = emb[order]\n",
    "    feats = kf.reset_index()\n",
    "    X_source = \"embeddings\"\n",
    "    print(\"Using embeddings:\", X.shape)\n",
    "else:\n",
    "    assert \"chunk_text\" in feats.columns, \"No embeddings found and no chunk_text for TF‑IDF fallback.\"\n",
    "    tfidf = TfidfVectorizer(max_features=5000, ngram_range=(1,2), min_df=2)\n",
    "    X = tfidf.fit_transform(feats[\"chunk_text\"].fillna(\" \")).astype(\"float32\")\n",
    "    X_source = \"tfidf\"\n",
    "    print(\"Using TF‑IDF:\", X.shape)\n"
   ]
  },
  {
   "cell_type": "code",
   "execution_count": 5,
   "id": "1da44690",
   "metadata": {},
   "outputs": [
    {
     "name": "stdout",
     "output_type": "stream",
     "text": [
      "Model loaded. Trained on: embeddings\n"
     ]
    }
   ],
   "source": [
    "\n",
    "with open(MODEL_PKL, \"rb\") as f:\n",
    "    pack = pickle.load(f)\n",
    "clf = pack[\"model\"]\n",
    "scaler = pack.get(\"scaler\", None)\n",
    "labels = pack.get(\"labels\", None)\n",
    "print(\"Model loaded. Trained on:\", pack.get(\"feature_source\",\"unknown\"))\n",
    "\n",
    "# Apply scaler if needed\n",
    "if scaler is not None and not hasattr(X, \"toarray\"):\n",
    "    X_inf = scaler.transform(X)\n",
    "else:\n",
    "    X_inf = X\n"
   ]
  },
  {
   "cell_type": "code",
   "execution_count": 6,
   "id": "b33c0ef6",
   "metadata": {},
   "outputs": [
    {
     "name": "stdout",
     "output_type": "stream",
     "text": [
      "Wrote: predictions_per_chunk.csv\n"
     ]
    },
    {
     "data": {
      "text/html": [
       "<div>\n",
       "<style scoped>\n",
       "    .dataframe tbody tr th:only-of-type {\n",
       "        vertical-align: middle;\n",
       "    }\n",
       "\n",
       "    .dataframe tbody tr th {\n",
       "        vertical-align: top;\n",
       "    }\n",
       "\n",
       "    .dataframe thead th {\n",
       "        text-align: right;\n",
       "    }\n",
       "</style>\n",
       "<table border=\"1\" class=\"dataframe\">\n",
       "  <thead>\n",
       "    <tr style=\"text-align: right;\">\n",
       "      <th></th>\n",
       "      <th>talk_id</th>\n",
       "      <th>chunk_id</th>\n",
       "      <th>title</th>\n",
       "      <th>speaker</th>\n",
       "      <th>primary_emotion</th>\n",
       "      <th>frames</th>\n",
       "      <th>techniques</th>\n",
       "      <th>pred_emotion</th>\n",
       "    </tr>\n",
       "  </thead>\n",
       "  <tbody>\n",
       "    <tr>\n",
       "      <th>0</th>\n",
       "      <td>0</td>\n",
       "      <td>3</td>\n",
       "      <td>Averting the climate crisis</td>\n",
       "      <td>Al Gore</td>\n",
       "      <td>hope</td>\n",
       "      <td>environmental</td>\n",
       "      <td>rhetorical_question</td>\n",
       "      <td>hope</td>\n",
       "    </tr>\n",
       "    <tr>\n",
       "      <th>1</th>\n",
       "      <td>3</td>\n",
       "      <td>0</td>\n",
       "      <td>Greening the ghetto</td>\n",
       "      <td>Majora Carter</td>\n",
       "      <td>joy</td>\n",
       "      <td>environmental</td>\n",
       "      <td>storytelling, statistic, contrast</td>\n",
       "      <td>joy</td>\n",
       "    </tr>\n",
       "    <tr>\n",
       "      <th>2</th>\n",
       "      <td>4</td>\n",
       "      <td>1</td>\n",
       "      <td>Do schools kill creativity?</td>\n",
       "      <td>Sir Ken Robinson</td>\n",
       "      <td>neutral</td>\n",
       "      <td>none</td>\n",
       "      <td>storytelling, rhetorical_question</td>\n",
       "      <td>neutral</td>\n",
       "    </tr>\n",
       "  </tbody>\n",
       "</table>\n",
       "</div>"
      ],
      "text/plain": [
       "   talk_id  chunk_id                        title           speaker  \\\n",
       "0        0         3  Averting the climate crisis           Al Gore   \n",
       "1        3         0          Greening the ghetto     Majora Carter   \n",
       "2        4         1  Do schools kill creativity?  Sir Ken Robinson   \n",
       "\n",
       "  primary_emotion         frames                         techniques  \\\n",
       "0            hope  environmental                rhetorical_question   \n",
       "1             joy  environmental  storytelling, statistic, contrast   \n",
       "2         neutral           none  storytelling, rhetorical_question   \n",
       "\n",
       "  pred_emotion  \n",
       "0         hope  \n",
       "1          joy  \n",
       "2      neutral  "
      ]
     },
     "execution_count": 6,
     "metadata": {},
     "output_type": "execute_result"
    }
   ],
   "source": [
    "\n",
    "pred = clf.predict(X_inf)\n",
    "feats_pred = feats.copy()\n",
    "feats_pred[\"pred_emotion\"] = pred\n",
    "\n",
    "# Save per-chunk predictions\n",
    "feats_pred.to_csv(PRED_CHUNKS_CSV, index=False)\n",
    "print(\"Wrote:\", PRED_CHUNKS_CSV)\n",
    "feats_pred.head(3)\n"
   ]
  },
  {
   "cell_type": "code",
   "execution_count": 7,
   "id": "3687c9fb",
   "metadata": {},
   "outputs": [
    {
     "name": "stdout",
     "output_type": "stream",
     "text": [
      "Wrote: talk_summary.csv\n"
     ]
    },
    {
     "data": {
      "text/html": [
       "<div>\n",
       "<style scoped>\n",
       "    .dataframe tbody tr th:only-of-type {\n",
       "        vertical-align: middle;\n",
       "    }\n",
       "\n",
       "    .dataframe tbody tr th {\n",
       "        vertical-align: top;\n",
       "    }\n",
       "\n",
       "    .dataframe thead th {\n",
       "        text-align: right;\n",
       "    }\n",
       "</style>\n",
       "<table border=\"1\" class=\"dataframe\">\n",
       "  <thead>\n",
       "    <tr style=\"text-align: right;\">\n",
       "      <th></th>\n",
       "      <th>talk_id</th>\n",
       "      <th>title</th>\n",
       "      <th>speaker</th>\n",
       "      <th>n_chunks</th>\n",
       "      <th>final_pred_emotion</th>\n",
       "      <th>dominant_pred_emotion</th>\n",
       "      <th>frames_count</th>\n",
       "      <th>techniques_count</th>\n",
       "    </tr>\n",
       "  </thead>\n",
       "  <tbody>\n",
       "    <tr>\n",
       "      <th>0</th>\n",
       "      <td>0</td>\n",
       "      <td>Averting the climate crisis</td>\n",
       "      <td>Al Gore</td>\n",
       "      <td>1</td>\n",
       "      <td>hope</td>\n",
       "      <td>hope</td>\n",
       "      <td>1</td>\n",
       "      <td>1</td>\n",
       "    </tr>\n",
       "    <tr>\n",
       "      <th>1</th>\n",
       "      <td>3</td>\n",
       "      <td>Greening the ghetto</td>\n",
       "      <td>Majora Carter</td>\n",
       "      <td>1</td>\n",
       "      <td>joy</td>\n",
       "      <td>joy</td>\n",
       "      <td>1</td>\n",
       "      <td>3</td>\n",
       "    </tr>\n",
       "    <tr>\n",
       "      <th>2</th>\n",
       "      <td>4</td>\n",
       "      <td>Do schools kill creativity?</td>\n",
       "      <td>Sir Ken Robinson</td>\n",
       "      <td>1</td>\n",
       "      <td>neutral</td>\n",
       "      <td>neutral</td>\n",
       "      <td>1</td>\n",
       "      <td>2</td>\n",
       "    </tr>\n",
       "  </tbody>\n",
       "</table>\n",
       "</div>"
      ],
      "text/plain": [
       "   talk_id                        title           speaker  n_chunks  \\\n",
       "0        0  Averting the climate crisis           Al Gore         1   \n",
       "1        3          Greening the ghetto     Majora Carter         1   \n",
       "2        4  Do schools kill creativity?  Sir Ken Robinson         1   \n",
       "\n",
       "  final_pred_emotion dominant_pred_emotion  frames_count  techniques_count  \n",
       "0               hope                  hope             1                 1  \n",
       "1                joy                   joy             1                 3  \n",
       "2            neutral               neutral             1                 2  "
      ]
     },
     "execution_count": 7,
     "metadata": {},
     "output_type": "execute_result"
    }
   ],
   "source": [
    "\n",
    "from collections import Counter\n",
    "\n",
    "agg = []\n",
    "for talk_id, g in feats_pred.groupby(\"talk_id\"):\n",
    "    title = g[\"title\"].iloc[0] if \"title\" in g.columns else \"\"\n",
    "    speaker = g[\"speaker\"].iloc[0] if \"speaker\" in g.columns else \"\"\n",
    "\n",
    "    # Predicted emotion trajectory\n",
    "    g2 = g.sort_values(\"chunk_id\")\n",
    "    traj = g2[\"pred_emotion\"].tolist()\n",
    "    final_pred = traj[-1] if len(traj) else \"neutral\"\n",
    "    dominant_pred = Counter(traj).most_common(1)[0][0] if traj else \"neutral\"\n",
    "\n",
    "    # Optional counts from labels\n",
    "    def _split_col(series):\n",
    "        vals = []\n",
    "        for v in series.fillna(\"\"):\n",
    "            vals.extend([p.strip() for p in str(v).split(\",\") if p.strip()])\n",
    "        return vals\n",
    "    frames_count = len(_split_col(g[\"frames\"])) if \"frames\" in g.columns else 0\n",
    "    techniques_count = len(_split_col(g[\"techniques\"])) if \"techniques\" in g.columns else 0\n",
    "\n",
    "    agg.append({\n",
    "        \"talk_id\": talk_id,\n",
    "        \"title\": title,\n",
    "        \"speaker\": speaker,\n",
    "        \"n_chunks\": len(g),\n",
    "        \"final_pred_emotion\": final_pred,\n",
    "        \"dominant_pred_emotion\": dominant_pred,\n",
    "        \"frames_count\": frames_count,\n",
    "        \"techniques_count\": techniques_count\n",
    "    })\n",
    "\n",
    "talk_summary = pd.DataFrame(agg).sort_values(\"talk_id\")\n",
    "talk_summary.to_csv(TALK_SUMMARY_CSV, index=False)\n",
    "print(\"Wrote:\", TALK_SUMMARY_CSV)\n",
    "talk_summary.head(3)\n"
   ]
  },
  {
   "cell_type": "code",
   "execution_count": 8,
   "id": "12d886a9",
   "metadata": {},
   "outputs": [
    {
     "data": {
      "image/png": "[encoded data removed]",
      "text/plain": [
       "<Figure size 640x480 with 1 Axes>"
      ]
     },
     "metadata": {},
     "output_type": "display_data"
    }
   ],
   "source": [
    "\n",
    "plt.figure()\n",
    "talk_summary[\"final_pred_emotion\"].value_counts().plot(kind=\"bar\")\n",
    "plt.title(\"Final predicted emotion across talks\")\n",
    "plt.xlabel(\"emotion\"); plt.ylabel(\"talks\")\n",
    "plt.savefig(\"figures/final_pred_emotion_distribution.png\", dpi=200, bbox_inches=\"tight\")\n",
    "plt.show()\n"
   ]
  },
  {
   "cell_type": "code",
   "execution_count": 9,
   "id": "ce306283",
   "metadata": {},
   "outputs": [
    {
     "data": {
      "image/png": "[encoded data removed]",
      "text/plain": [
       "<Figure size 640x480 with 1 Axes>"
      ]
     },
     "metadata": {},
     "output_type": "display_data"
    }
   ],
   "source": [
    "\n",
    "counts = feats_pred.groupby(\"talk_id\")[\"chunk_id\"].count().sort_values(ascending=False)\n",
    "example_id = counts.index[0]\n",
    "one = feats_pred[feats_pred[\"talk_id\"]==example_id].sort_values(\"chunk_id\")\n",
    "emos = one[\"pred_emotion\"].tolist()\n",
    "uniq = list(dict.fromkeys(emos))\n",
    "emap = {e:i for i,e in enumerate(uniq)}\n",
    "y = [emap[e] for e in emos]\n",
    "\n",
    "plt.figure()\n",
    "plt.plot(one[\"chunk_id\"], y, marker=\"o\")\n",
    "plt.yticks(list(emap.values()), list(emap.keys()))\n",
    "plt.title(f\"Predicted emotion trajectory — talk_id {int(example_id)}\")\n",
    "plt.xlabel(\"chunk_id\"); plt.ylabel(\"emotion\")\n",
    "plt.grid(True)\n",
    "plt.savefig(\"figures/example_emotion_trajectory.png\", dpi=200, bbox_inches=\"tight\")\n",
    "plt.show()\n"
   ]
  },
  {
   "cell_type": "code",
   "execution_count": null,
   "id": "75c6219d",
   "metadata": {},
   "outputs": [],
   "source": []
  }
 ],
 "metadata": {
  "kernelspec": {
   "display_name": "Python 3 (ipykernel)",
   "language": "python",
   "name": "python3"
  },
  "language_info": {
   "codemirror_mode": {
    "name": "ipython",
    "version": 3
   },
   "file_extension": ".py",
   "mimetype": "text/x-python",
   "name": "python",
   "nbconvert_exporter": "python",
   "pygments_lexer": "ipython3",
   "version": "3.12.3"
  }
 },
 "nbformat": 4,
 "nbformat_minor": 5
}
