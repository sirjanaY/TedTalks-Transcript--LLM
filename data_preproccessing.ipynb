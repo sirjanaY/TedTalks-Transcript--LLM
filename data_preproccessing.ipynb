{
 "cells": [
  {
   "cell_type": "code",
   "execution_count": 1,
   "id": "b911569f",
   "metadata": {},
   "outputs": [],
   "source": [
    "import pandas as pd\n",
    "import matplotlib.pyplot as plt\n",
    "\n",
    "INPUT_CSV = \"ted_talks_clean.csv\"\n",
    "OUTPUT_CSV = \"chunks.csv\"\n",
    "\n",
    "MAX_CHARS_PER_CHUNK = 3000\n",
    "OVERLAP_SENTENCES   = 2\n",
    "READ_CHUNKSIZE      = 200\n",
    "\n"
   ]
  },
  {
   "cell_type": "code",
   "execution_count": 2,
   "id": "12e1c594",
   "metadata": {},
   "outputs": [],
   "source": [
    "def clean_text_no_regex(s: str) -> str:\n",
    "  #Very light cleanup using only string ops\n",
    "    if s is None:\n",
    "        return \"\"\n",
    "    s = str(s)\n",
    "    # remove a few common bracket tags without regex\n",
    "    for tag in [\"[Applause]\", \"[Laughter]\", \"[Music]\"]:\n",
    "        s = s.replace(tag, \" \")\n",
    "    # collapse whitespace\n",
    "    s = \" \".join(s.split())\n",
    "    return s.strip()\n",
    "\n",
    "def split_sentences_no_regex(text: str):\n",
    "    #Split on '.', '?', '!' while keeping the punctuation\n",
    "    text = text.strip()\n",
    "    if not text:\n",
    "        return []\n",
    "    out, cur = [], []\n",
    "    for ch in text:\n",
    "        cur.append(ch)\n",
    "        if ch in \".!?\":             # sentence end\n",
    "            sent = \"\".join(cur).strip()\n",
    "            if sent:\n",
    "                out.append(sent)\n",
    "            cur = []\n",
    "    if cur:  # leftover without terminal punctuation\n",
    "        last = \"\".join(cur).strip()\n",
    "        if last:\n",
    "            out.append(last)\n",
    "    return out"
   ]
  },
  {
   "cell_type": "code",
   "execution_count": 3,
   "id": "bbd19662",
   "metadata": {},
   "outputs": [],
   "source": [
    "def chunk_by_chars_no_regex(text: str, max_chars=3000, overlap_sents=2):\n",
    "   #Packed whole sentences up to ~max_chars and keep a small overlap\n",
    "    text = clean_text_no_regex(text)\n",
    "    sents = split_sentences_no_regex(text)\n",
    "    if not sents:\n",
    "        return []\n",
    "\n",
    "    # compute char starts for each sentence (simple scan)\n",
    "    idxs, pos = [], 0\n",
    "    for s in sents:\n",
    "        start = text.find(s, pos)\n",
    "        idxs.append(start if start >= 0 else pos)\n",
    "        pos = (start if start >= 0 else pos) + len(s)\n",
    "\n",
    "    chunks, buf, buf_start_char, i = [], [], None, 0\n",
    "    while i < len(sents):\n",
    "        s = sents[i]\n",
    "        if not buf:\n",
    "            buf_start_char = idxs[i]\n",
    "        candidate = (\" \".join(buf + [s])).strip()\n",
    "        if len(candidate) <= max_chars or not buf:\n",
    "            buf.append(s); i += 1\n",
    "        else:\n",
    "            chunk_text = \" \".join(buf).strip()\n",
    "            start_char = buf_start_char\n",
    "            end_char = start_char + len(chunk_text)\n",
    "            chunks.append((start_char, end_char, chunk_text))\n",
    "            # overlap\n",
    "            buf = buf[-overlap_sents:] if overlap_sents > 0 else []\n",
    "            if buf:\n",
    "                first_overlap = buf[0]\n",
    "                new_start = text.find(first_overlap, start_char)\n",
    "                buf_start_char = new_start if new_start >= 0 else end_char - len(\" \".join(buf))\n",
    "            else:\n",
    "                buf_start_char = None\n",
    "\n",
    "    if buf:\n",
    "        chunk_text = \" \".join(buf).strip()\n",
    "        start_char = buf_start_char if buf_start_char is not None else 0\n",
    "        end_char = start_char + len(chunk_text)\n",
    "        chunks.append((start_char, end_char, chunk_text))\n",
    "    return chunks"
   ]
  },
  {
   "cell_type": "code",
   "execution_count": 5,
   "id": "289f4cc7",
   "metadata": {},
   "outputs": [
    {
     "name": "stdout",
     "output_type": "stream",
     "text": [
      "Processed rows: 200\n",
      "Processed rows: 400\n",
      "Processed rows: 600\n",
      "Processed rows: 800\n",
      "Processed rows: 1000\n",
      "Processed rows: 1200\n",
      "Processed rows: 1400\n",
      "Processed rows: 1600\n",
      "Processed rows: 1800\n",
      "Processed rows: 2000\n",
      "Processed rows: 2200\n",
      "Processed rows: 2400\n",
      "Processed rows: 2600\n",
      "Processed rows: 2800\n",
      "Processed rows: 3000\n",
      "Processed rows: 3200\n",
      "Processed rows: 3400\n",
      "Processed rows: 3600\n",
      "Processed rows: 3800\n",
      "Processed rows: 3957\n",
      "Wrote: chunks.csv\n"
     ]
    }
   ],
   "source": [
    "#  stream input, write chunks \n",
    "from pathlib import Path\n",
    "\n",
    "need_header = not Path(OUTPUT_CSV).exists()\n",
    "with open(OUTPUT_CSV, \"w\", encoding=\"utf-8\") as fout:\n",
    "    fout.write(\"talk_id,chunk_id,title,speaker,start_char,end_char,n_chars,chunk_text\\n\")\n",
    "\n",
    "processed = 0\n",
    "for batch in pd.read_csv(INPUT_CSV, chunksize=READ_CHUNKSIZE):\n",
    "    if \"talk_id\" not in batch.columns:\n",
    "        batch = batch.reset_index(drop=False).rename(columns={\"index\":\"talk_id\"})\n",
    "    rows = []\n",
    "    for _, row in batch.iterrows():\n",
    "        talk_id  = int(row[\"talk_id\"])\n",
    "        title    = row.get(\"title\", \"\")\n",
    "        speaker  = row.get(\"speaker\", row.get(\"speaker_1\", \"\"))\n",
    "        transcript = str(row[\"transcript\"])\n",
    "\n",
    "        pieces = chunk_by_chars_no_regex(transcript, MAX_CHARS_PER_CHUNK, OVERLAP_SENTENCES)\n",
    "        for idx, (s_char, e_char, txt) in enumerate(pieces):\n",
    "            if len(txt) < 20:\n",
    "                continue\n",
    "            # CSV-safe line (escape quotes by doubling)\n",
    "            safe = txt.replace('\"', '\"\"')\n",
    "            rows.append(f'{talk_id},{idx},\"{title}\",\"{speaker}\",{s_char},{e_char},{len(txt)},\"{safe}\"')\n",
    "    with open(OUTPUT_CSV, \"a\", encoding=\"utf-8\") as fout:\n",
    "        fout.write(\"\\n\".join(rows) + (\"\\n\" if rows else \"\"))\n",
    "    processed += len(batch)\n",
    "    print(f\"Processed rows: {processed}\")\n",
    "\n",
    "print(\"Wrote:\", OUTPUT_CSV)"
   ]
  },
  {
   "cell_type": "code",
   "execution_count": 6,
   "id": "b3d16611",
   "metadata": {},
   "outputs": [
    {
     "data": {
      "image/png": "[encoded data removed]",
      "text/plain": [
       "<Figure size 640x480 with 1 Axes>"
      ]
     },
     "metadata": {},
     "output_type": "display_data"
    },
    {
     "data": {
      "image/png": "[encoded data removed]",
      "text/plain": [
       "<Figure size 640x480 with 1 Axes>"
      ]
     },
     "metadata": {},
     "output_type": "display_data"
    }
   ],
   "source": [
    " \n",
    "mini = pd.read_csv(OUTPUT_CSV, usecols=[\"talk_id\",\"n_chars\"])\n",
    "plt.figure(); mini[\"n_chars\"].plot(kind=\"hist\", bins=40)\n",
    "plt.title(\"Chunk length (chars)\"); plt.xlabel(\"chars\"); plt.ylabel(\"count\"); plt.show()\n",
    "\n",
    "plt.figure(); mini.groupby(\"talk_id\")[\"n_chars\"].count().plot(kind=\"hist\", bins=30)\n",
    "plt.title(\"Chunks per talk\"); plt.xlabel(\"# chunks\"); plt.ylabel(\"talks\"); plt.show()\n"
   ]
  },
  {
   "cell_type": "code",
   "execution_count": null,
   "id": "ebe950f1",
   "metadata": {},
   "outputs": [],
   "source": []
  }
 ],
 "metadata": {
  "kernelspec": {
   "display_name": "Python 3 (ipykernel)",
   "language": "python",
   "name": "python3"
  },
  "language_info": {
   "codemirror_mode": {
    "name": "ipython",
    "version": 3
   },
   "file_extension": ".py",
   "mimetype": "text/x-python",
   "name": "python",
   "nbconvert_exporter": "python",
   "pygments_lexer": "ipython3",
   "version": "3.12.3"
  }
 },
 "nbformat": 4,
 "nbformat_minor": 5
}
