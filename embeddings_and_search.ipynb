{
 "cells": [
  {
   "cell_type": "code",
   "execution_count": 14,
   "id": "db270d30",
   "metadata": {},
   "outputs": [
    {
     "name": "stdout",
     "output_type": "stream",
     "text": [
      "✔️ OpenAI client ready (make sure OPENAI_API_KEY is set)\n"
     ]
    }
   ],
   "source": [
    "\n",
    "import os, json, time\n",
    "import numpy as np\n",
    "import pandas as pd\n",
    "import matplotlib.pyplot as plt\n",
    "\n",
    "from openai import OpenAI\n",
    "\n",
    "#  Parameters \n",
    "CHUNKS_CSV = \"chunks.csv\"           # input produced in Notebook 02\n",
    "EMBED_MODEL = \"text-embedding-3-small\"\n",
    "MAX_ROWS = 1500                      # cap to keep it fast\n",
    "TEXT_COL = \"chunk_text\"\n",
    "META_COLS = [\"talk_id\", \"chunk_id\", \"title\", \"speaker\"]  # saved alongside embeddings\n",
    "\n",
    "EMBED_OUT_NPY = \"embeddings.npy\"\n",
    "EMBED_META_CSV = \"embedding_meta.csv\"\n",
    "\n",
    "# Create client (reads key from env)\n",
    "client = OpenAI(api_key=os.getenv(\"OPENAI_API_KEY\"))\n",
    "print(\" OpenAI client ready (make sure OPENAI_API_KEY is set)\")\n"
   ]
  },
  {
   "cell_type": "code",
   "execution_count": 8,
   "id": "ebd272ef",
   "metadata": {},
   "outputs": [
    {
     "name": "stdout",
     "output_type": "stream",
     "text": [
      "(16128, 5)\n"
     ]
    },
    {
     "data": {
      "text/html": [
       "<div>\n",
       "<style scoped>\n",
       "    .dataframe tbody tr th:only-of-type {\n",
       "        vertical-align: middle;\n",
       "    }\n",
       "\n",
       "    .dataframe tbody tr th {\n",
       "        vertical-align: top;\n",
       "    }\n",
       "\n",
       "    .dataframe thead th {\n",
       "        text-align: right;\n",
       "    }\n",
       "</style>\n",
       "<table border=\"1\" class=\"dataframe\">\n",
       "  <thead>\n",
       "    <tr style=\"text-align: right;\">\n",
       "      <th></th>\n",
       "      <th>talk_id</th>\n",
       "      <th>chunk_id</th>\n",
       "      <th>title</th>\n",
       "      <th>speaker</th>\n",
       "      <th>chunk_text</th>\n",
       "    </tr>\n",
       "  </thead>\n",
       "  <tbody>\n",
       "    <tr>\n",
       "      <th>0</th>\n",
       "      <td>0</td>\n",
       "      <td>0</td>\n",
       "      <td>Averting the climate crisis</td>\n",
       "      <td>Al Gore</td>\n",
       "      <td>Thank you so much, Chris. And it's truly a gre...</td>\n",
       "    </tr>\n",
       "    <tr>\n",
       "      <th>1</th>\n",
       "      <td>0</td>\n",
       "      <td>1</td>\n",
       "      <td>Averting the climate crisis</td>\n",
       "      <td>Al Gore</td>\n",
       "      <td>\" And I thought to myself, in the middle of th...</td>\n",
       "    </tr>\n",
       "  </tbody>\n",
       "</table>\n",
       "</div>"
      ],
      "text/plain": [
       "   talk_id  chunk_id                        title  speaker  \\\n",
       "0        0         0  Averting the climate crisis  Al Gore   \n",
       "1        0         1  Averting the climate crisis  Al Gore   \n",
       "\n",
       "                                          chunk_text  \n",
       "0  Thank you so much, Chris. And it's truly a gre...  \n",
       "1  \" And I thought to myself, in the middle of th...  "
      ]
     },
     "execution_count": 8,
     "metadata": {},
     "output_type": "execute_result"
    }
   ],
   "source": [
    "\n",
    "df = pd.read_csv(CHUNKS_CSV, usecols=META_COLS + [TEXT_COL])\n",
    "print(df.shape)\n",
    "df.head(2)\n"
   ]
  },
  {
   "cell_type": "code",
   "execution_count": 15,
   "id": "7eacd481",
   "metadata": {},
   "outputs": [
    {
     "name": "stdout",
     "output_type": "stream",
     "text": [
      "Using rows: 1500\n"
     ]
    }
   ],
   "source": [
    "\n",
    "if len(df) > MAX_ROWS:\n",
    "    df = df.sample(MAX_ROWS, random_state=42).reset_index(drop=True)\n",
    "print(\"Using rows:\", len(df))\n"
   ]
  },
  {
   "cell_type": "code",
   "execution_count": 16,
   "id": "472b4194",
   "metadata": {},
   "outputs": [
    {
     "name": "stdout",
     "output_type": "stream",
     "text": [
      "Embedded 1500/1500\n",
      "Embeddings shape: (1500, 1536)\n",
      "Saved: embeddings.npy and embedding_meta.csv\n"
     ]
    }
   ],
   "source": [
    "\n",
    "import math, time\n",
    "\n",
    "def embed_texts(texts, batch_size=64, sleep=0.5):\n",
    "    \"\"\"Simple helper that embeds texts in small batches.\"\"\"\n",
    "    out = []\n",
    "    for i in range(0, len(texts), batch_size):\n",
    "        batch = texts[i:i+batch_size]\n",
    "        # API call\n",
    "        resp = client.embeddings.create(model=EMBED_MODEL, input=batch)\n",
    "        vecs = [item.embedding for item in resp.data]\n",
    "        out.extend(vecs)\n",
    "        # polite pacing\n",
    "        if sleep and i + batch_size < len(texts):\n",
    "            time.sleep(sleep)\n",
    "        print(f\"Embedded {min(i+batch_size, len(texts))}/{len(texts)}\", end=\"\\r\")\n",
    "    print()\n",
    "    return np.array(out, dtype=np.float32)\n",
    "\n",
    "emb = embed_texts(df[TEXT_COL].fillna(\" \").tolist())\n",
    "print(\"Embeddings shape:\", emb.shape)\n",
    "\n",
    "# Save artifacts\n",
    "np.save(EMBED_OUT_NPY, emb)\n",
    "df[META_COLS].to_csv(EMBED_META_CSV, index=False)\n",
    "print(\"Saved:\", EMBED_OUT_NPY, \"and\", EMBED_META_CSV)\n"
   ]
  },
  {
   "cell_type": "code",
   "execution_count": 18,
   "id": "a2fe3f98",
   "metadata": {},
   "outputs": [
    {
     "data": {
      "text/html": [
       "<div>\n",
       "<style scoped>\n",
       "    .dataframe tbody tr th:only-of-type {\n",
       "        vertical-align: middle;\n",
       "    }\n",
       "\n",
       "    .dataframe tbody tr th {\n",
       "        vertical-align: top;\n",
       "    }\n",
       "\n",
       "    .dataframe thead th {\n",
       "        text-align: right;\n",
       "    }\n",
       "</style>\n",
       "<table border=\"1\" class=\"dataframe\">\n",
       "  <thead>\n",
       "    <tr style=\"text-align: right;\">\n",
       "      <th></th>\n",
       "      <th>talk_id</th>\n",
       "      <th>chunk_id</th>\n",
       "      <th>title</th>\n",
       "      <th>speaker</th>\n",
       "      <th>score</th>\n",
       "    </tr>\n",
       "  </thead>\n",
       "  <tbody>\n",
       "    <tr>\n",
       "      <th>994</th>\n",
       "      <td>158</td>\n",
       "      <td>3</td>\n",
       "      <td>The case for optimism</td>\n",
       "      <td>Larry Brilliant</td>\n",
       "      <td>0.580847</td>\n",
       "    </tr>\n",
       "    <tr>\n",
       "      <th>113</th>\n",
       "      <td>2117</td>\n",
       "      <td>0</td>\n",
       "      <td>The inside story of the Paris climate agreement</td>\n",
       "      <td>Christiana Figueres</td>\n",
       "      <td>0.567468</td>\n",
       "    </tr>\n",
       "    <tr>\n",
       "      <th>906</th>\n",
       "      <td>3722</td>\n",
       "      <td>9</td>\n",
       "      <td>How we can turn the tide on climate</td>\n",
       "      <td>Chris Anderson</td>\n",
       "      <td>0.566015</td>\n",
       "    </tr>\n",
       "    <tr>\n",
       "      <th>250</th>\n",
       "      <td>1112</td>\n",
       "      <td>4</td>\n",
       "      <td>Why I must speak out about climate change</td>\n",
       "      <td>James Hansen</td>\n",
       "      <td>0.565192</td>\n",
       "    </tr>\n",
       "    <tr>\n",
       "      <th>938</th>\n",
       "      <td>3722</td>\n",
       "      <td>1</td>\n",
       "      <td>How we can turn the tide on climate</td>\n",
       "      <td>Chris Anderson</td>\n",
       "      <td>0.542857</td>\n",
       "    </tr>\n",
       "  </tbody>\n",
       "</table>\n",
       "</div>"
      ],
      "text/plain": [
       "     talk_id  chunk_id                                            title  \\\n",
       "994      158         3                            The case for optimism   \n",
       "113     2117         0  The inside story of the Paris climate agreement   \n",
       "906     3722         9              How we can turn the tide on climate   \n",
       "250     1112         4        Why I must speak out about climate change   \n",
       "938     3722         1              How we can turn the tide on climate   \n",
       "\n",
       "                 speaker     score  \n",
       "994      Larry Brilliant  0.580847  \n",
       "113  Christiana Figueres  0.567468  \n",
       "906       Chris Anderson  0.566015  \n",
       "250         James Hansen  0.565192  \n",
       "938       Chris Anderson  0.542857  "
      ]
     },
     "execution_count": 18,
     "metadata": {},
     "output_type": "execute_result"
    }
   ],
   "source": [
    "\n",
    "def cosine_sim(a, b):\n",
    "    a = a / (np.linalg.norm(a, axis=1, keepdims=True) + 1e-8)\n",
    "    b = b / (np.linalg.norm(b) + 1e-8)\n",
    "    return np.dot(a, b)\n",
    "\n",
    "def search(query, top_k=5):\n",
    "    # Embed the query\n",
    "    q = client.embeddings.create(model=EMBED_MODEL, input=[query]).data[0].embedding\n",
    "    q = np.array(q, dtype=np.float32)\n",
    "\n",
    "    sims = cosine_sim(emb, q)\n",
    "    idx = np.argsort(-sims)[:top_k]\n",
    "    results = df.iloc[idx].copy()\n",
    "    results[\"score\"] = sims[idx]\n",
    "    return results\n",
    "\n",
    "# Example:\n",
    "query = \"hopeful ending with a call to action about climate\"  # <— change me\n",
    "hits = search(query, top_k=5)\n",
    "hits[[\"talk_id\",\"chunk_id\",\"title\",\"speaker\",\"score\"]]\n"
   ]
  },
  {
   "cell_type": "code",
   "execution_count": 19,
   "id": "3085faf5",
   "metadata": {},
   "outputs": [
    {
     "name": "stdout",
     "output_type": "stream",
     "text": [
      "Top match — talk_id=158, chunk_id=3, score=0.5808\n",
      "\n",
      "Human beings have always risen to the challenge. You just need to look at the list of Nobel laureates to remind ourselves. We've been here before, paralyzed by fear, paralyzed into inaction, when some — probably one of you in this room — jumped into the breach and created an organization like Physicians for Social Responsibility, which fought against the nuclear threat, Medicins Sans Frontieres, that renewed our commitment to disaster relief, Mohamed ElBaradei, and the tremendous hope and optimism that he brought all of us, and our own Muhammad Yunus. We've seen the eradication of smallpox. We may see the eradication of polio this year. Last year, there were only 2,000 cases in the world. We may see the eradication of guinea worm next year — there are only 35,000 cases left in the world. 20 years ago, there were three and a half million. And we've seen a new disease, not like the 30 novel emerging communicable diseases. This disease is called sudden wealth syndrome. (Laughter) It's an amazing phenomenon. All throughout the technology world, we're seeing young people bitten by this disease of sudden wealth syndrome. But they're using their wealth in a way that their forefathers neve\n"
     ]
    }
   ],
   "source": [
    "\n",
    "if len(hits):\n",
    "    r0 = hits.iloc[0]\n",
    "    print(f\"Top match — talk_id={r0['talk_id']}, chunk_id={r0['chunk_id']}, score={r0['score']:.4f}\\n\")\n",
    "    print(df.loc[(df[\"talk_id\"]==r0[\"talk_id\"]) & (df[\"chunk_id\"]==r0[\"chunk_id\"]), TEXT_COL].values[0][:1200])\n"
   ]
  },
  {
   "cell_type": "code",
   "execution_count": null,
   "id": "f5e32e3d",
   "metadata": {},
   "outputs": [],
   "source": []
  }
 ],
 "metadata": {
  "kernelspec": {
   "display_name": "Python 3 (ipykernel)",
   "language": "python",
   "name": "python3"
  },
  "language_info": {
   "codemirror_mode": {
    "name": "ipython",
    "version": 3
   },
   "file_extension": ".py",
   "mimetype": "text/x-python",
   "name": "python",
   "nbconvert_exporter": "python",
   "pygments_lexer": "ipython3",
   "version": "3.12.3"
  }
 },
 "nbformat": 4,
 "nbformat_minor": 5
}
